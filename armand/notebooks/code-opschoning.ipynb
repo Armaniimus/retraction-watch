{
 "cells": [
  {
   "cell_type": "markdown",
   "id": "658fe99c",
   "metadata": {},
   "source": [
    "# code opschoning\n",
    "Het doel hier is laten zien hoe verschillende functies verandert zijn om de code kwaliteit te vergroten\n"
   ]
  },
  {
   "cell_type": "code",
   "execution_count": 1,
   "id": "894dc29c",
   "metadata": {},
   "outputs": [],
   "source": [
    "#setup\n",
    "import pandas as pd\n",
    "from genlib import get_csv, print_dataframe"
   ]
  },
  {
   "cell_type": "markdown",
   "id": "12c7df58",
   "metadata": {
    "vscode": {
     "languageId": "plaintext"
    }
   },
   "source": [
    "In genlib is de functie getchunked() verwijdert omdat deze performance verhogende functie niet nodig is voor onze huidige codebase en eerdere ervaren memory problemen een tijdelijk probleem was op mijn pc.\n",
    "De functie add add_counted_dates is daarom aangepast tijdens deze aanpassing is hij ook generiek gemaakt en daarom verplaatst naar genlib\n",
    "Als laatste heb ik hieraan type hints toegevoegd als documenterende waarde."
   ]
  },
  {
   "cell_type": "code",
   "execution_count": 2,
   "id": "f36beb0c",
   "metadata": {},
   "outputs": [],
   "source": [
    "def add_counted_dates(df:pd.DataFrame, start_date:str, end_date:str, new_col_name:str, format:str=None):\n",
    "\t#for format documentation see https://docs.python.org/3/library/datetime.html#strftime-and-strptime-behavior\n",
    "\tdf[start_date] = pd.to_datetime(df[start_date], format=format)\n",
    "\tdf[end_date] = pd.to_datetime(df[end_date], format=format)\n",
    "\tdf[new_col_name] = (df[end_date] - df[start_date]).dt.days\n",
    "\n",
    "\treturn df"
   ]
  },
  {
   "cell_type": "markdown",
   "id": "00709fb4",
   "metadata": {},
   "source": [
    "tot slot is de functie save_days inbetween als volgt aangepast"
   ]
  },
  {
   "cell_type": "code",
   "execution_count": 3,
   "id": "361498a0",
   "metadata": {},
   "outputs": [
    {
     "name": "stdout",
     "output_type": "stream",
     "text": [
      "          RetractionDate OriginalPaperDate  days_between\n",
      "Record ID                                               \n",
      "66854         2024-03-20        2020-09-27          1270\n",
      "66852         2024-03-20        2022-03-22           729\n",
      "66851         2024-03-20        2021-04-14          1071\n",
      "66850         2024-03-20        2021-05-27          1028\n",
      "66849         2024-03-20        2021-04-22          1063\n",
      "...                  ...               ...           ...\n",
      "5             2015-12-22        2007-10-03          3002\n",
      "4             2014-11-01        2013-05-31           519\n",
      "3             2014-11-01        2011-01-28          1373\n",
      "2             2015-01-29        2008-07-17          2387\n",
      "1             2012-03-15        2011-05-19           301\n",
      "\n",
      "[66373 rows x 3 columns]\n"
     ]
    }
   ],
   "source": [
    "def save_days_inbetween():\n",
    "\tdf = get_csv('data/source.csv', 'Record ID', ['Record ID', 'RetractionDate', 'OriginalPaperDate'])\n",
    "\tdata = add_counted_dates(df, \"OriginalPaperDate\", \"RetractionDate\", \"days_between\", \"%m/%d/%Y %H:%M\") #maand/dag/jaar uur:minuut\n",
    "\tprint(data)\n",
    "\n",
    "save_days_inbetween()"
   ]
  },
  {
   "cell_type": "markdown",
   "id": "43f2fc74",
   "metadata": {},
   "source": [
    "Verder heb ik 2 context gebaseerde functies toegevoegd en deze voorzien van typehints"
   ]
  },
  {
   "cell_type": "code",
   "execution_count": 4,
   "id": "b4bef76c",
   "metadata": {},
   "outputs": [
    {
     "name": "stdout",
     "output_type": "stream",
     "text": [
      "Record ID, Title, Subject, Journal, Publisher, Country, ArticleType, RetractionDate, OriginalPaperDate, RetractionNature, Reason, Paywalled\n",
      "66854, High-Fat Diet Promotes DSS-Induced Ulcerative Colitis by Downregulated FXR Expression through the TGFB Pathway, (BLS) Genetics;(HSC) Medicine - Gastroenterology;(HSC) Nutrition;, BioMed Research International, Wiley, China, Research Article;, 3/20/2024 0:00, 9/27/2020 0:00, Retraction, Computer-Aided Content or Computer-Generated Content;Concerns/Issues About Data;Concerns/Issues about Referencing/Attributions;Concerns/Issues about Results and/or Conclusions;Concerns/Issues with Peer Review;Investigation by Journal/Publisher;Investigation by Third Party;Paper Mill;Unreliable Results and/or Conclusions;, No\n",
      "66852, Fuzzy Logic-Based Systems for the Diagnosis of Chronic Kidney Disease, (B/T) Technology;(HSC) Medicine - Urology/Nephrology;, BioMed Research International, Wiley, Ghana;India, Research Article;, 3/20/2024 0:00, 3/22/2022 0:00, Retraction, Computer-Aided Content or Computer-Generated Content;Concerns/Issues About Data;Concerns/Issues about Referencing/Attributions;Concerns/Issues about Results and/or Conclusions;Concerns/Issues with Peer Review;Investigation by Journal/Publisher;Investigation by Third Party;Paper Mill;Unreliable Results and/or Conclusions;, No\n",
      "66851, Flat Panel CT Scanning Is Helpful in Predicting Hemorrhagic Transformation in Acute Ischemic Stroke Patients Undergoing Endovascular Thrombectomy, (HSC) Medicine - Cardiovascular;(HSC) Medicine - Neurology;(HSC) Radiology/Imaging;, BioMed Research International, Wiley, China, Research Article;, 3/20/2024 0:00, 4/14/2021 0:00, Retraction, Computer-Aided Content or Computer-Generated Content;Concerns/Issues About Data;Concerns/Issues about Referencing/Attributions;Concerns/Issues about Results and/or Conclusions;Concerns/Issues with Peer Review;Investigation by Journal/Publisher;Investigation by Third Party;Paper Mill;Unreliable Results and/or Conclusions;, No\n",
      "66850, Mangifera indica Extracts as Novel PKM2 Inhibitors for Treatment of Triple Negative Breast Cancer, (BLS) Genetics;(HSC) Medicine - Alternative;(HSC) Medicine - Obstetrics/Gynecology;(HSC) Medicine - Oncology;, BioMed Research International, Wiley, China;Pakistan;Turkey, Research Article;, 3/20/2024 0:00, 5/27/2021 0:00, Retraction, Computer-Aided Content or Computer-Generated Content;Concerns/Issues About Data;Concerns/Issues about Referencing/Attributions;Concerns/Issues about Results and/or Conclusions;Concerns/Issues with Peer Review;Investigation by Journal/Publisher;Investigation by Third Party;Paper Mill;Unreliable Results and/or Conclusions;, No\n",
      "66849, Mechanism of Radix Astragali and Radix Salviae Miltiorrhizae Ameliorates Hypertensive Renal Damage, (HSC) Medicine - Alternative;(HSC) Medicine - Cardiovascular;(HSC) Medicine - Urology/Nephrology;, BioMed Research International, Wiley, China, Research Article;, 3/20/2024 0:00, 4/22/2021 0:00, Retraction, Computer-Aided Content or Computer-Generated Content;Concerns/Issues About Data;Concerns/Issues about Referencing/Attributions;Concerns/Issues about Results and/or Conclusions;Concerns/Issues with Peer Review;Investigation by Journal/Publisher;Investigation by Third Party;Paper Mill;Unreliable Results and/or Conclusions;, No\n",
      "66848, Mechanism of RNA circHIPK3 Involved in Resistance of Lung Cancer Cells to Gefitinib, (BLS) Biology - Cellular;(BLS) Genetics;(HSC) Medicine - Oncology;(HSC) Medicine - Pharmacology;(HSC) Medicine - Pulmonology;, BioMed Research International, Wiley, China, Research Article;, 3/20/2024 0:00, 4/19/2022 0:00, Retraction, Computer-Aided Content or Computer-Generated Content;Concerns/Issues About Data;Concerns/Issues about Referencing/Attributions;Concerns/Issues about Results and/or Conclusions;Concerns/Issues with Peer Review;Investigation by Journal/Publisher;Investigation by Third Party;Paper Mill;Unreliable Results and/or Conclusions;, No\n",
      "66847, miR-1226-3p Promotes eNOS Expression of Pulmonary Arterial Endothelial Cells to Mitigate Hypertension in Rats via Targeting Profilin-1, (BLS) Biology - Cellular;(BLS) Genetics;(HSC) Medicine - Cardiovascular;(HSC) Medicine - Pulmonology;, BioMed Research International, Wiley, China, Research Article;, 3/20/2024 0:00, 11/3/2021 0:00, Retraction, Computer-Aided Content or Computer-Generated Content;Concerns/Issues About Data;Concerns/Issues about Referencing/Attributions;Concerns/Issues about Results and/or Conclusions;Concerns/Issues with Peer Review;Investigation by Journal/Publisher;Investigation by Third Party;Paper Mill;Unreliable Results and/or Conclusions;, No\n",
      "66846, Identifying the Effect of Nuanxin Capsules on Myocardial Injury Induced by Chronic Hypoxia via Network Pharmacology Analysis and Experimental Validation, (HSC) Medicine - Alternative;(HSC) Medicine - Cardiovascular;(HSC) Medicine - Pharmacology;, BioMed Research International, Wiley, China, Research Article;, 3/20/2024 0:00, 10/4/2022 0:00, Retraction, Computer-Aided Content or Computer-Generated Content;Concerns/Issues About Data;Concerns/Issues about Referencing/Attributions;Concerns/Issues about Results and/or Conclusions;Concerns/Issues with Peer Review;Investigation by Journal/Publisher;Investigation by Third Party;Paper Mill;Unreliable Results and/or Conclusions;, No\n",
      "66845, Mechanism of Sevoflurane Anesthesia under Hypothermic Cardiopulmonary Bypass on Postoperative Atrial Fibrillation Rhythm in Patients Undergoing Mitral Valve Replacement, (HSC) Medicine - Anesthesia/Anaesthesia;(HSC) Medicine - Cardiovascular;(HSC) Medicine - Surgery;, BioMed Research International, Wiley, China, Research Article;, 3/20/2024 0:00, 6/28/2022 0:00, Retraction, Computer-Aided Content or Computer-Generated Content;Concerns/Issues About Data;Concerns/Issues about Referencing/Attributions;Concerns/Issues about Results and/or Conclusions;Investigation by Journal/Publisher;Investigation by Third Party;Paper Mill;Unreliable Results and/or Conclusions;, No\n",
      "66844, MicroRNA-205-5p Targets HMGB1 to Suppress Inflammatory Responses during Lung Injury after Hip Fracture, (BLS) Biology - Molecular;(BLS) Genetics;(HSC) Medicine - Orthopedics;(HSC) Medicine - Pulmonology;, BioMed Research International, Wiley, China, Research Article;, 3/20/2024 0:00, 11/28/2019 0:00, Retraction, Computer-Aided Content or Computer-Generated Content;Concerns/Issues About Data;Concerns/Issues about Referencing/Attributions;Concerns/Issues about Results and/or Conclusions;Concerns/Issues with Peer Review;Investigation by Journal/Publisher;Investigation by Third Party;Paper Mill;Unreliable Results and/or Conclusions;, No\n",
      "66843, Long-Term Carbohydrate-Containing Late-Evening Snack Significantly Improves the Ratio of Branched Chain Amino Acids to Aromatic Amino Acids in Adults with Liver Cirrhosis due to Hepatitis B, (HSC) Medicine - Infectious Disease;(HSC) Medicine - Internal;(HSC) Nutrition;, BioMed Research International, Wiley, China, Research Article;, 3/20/2024 0:00, 11/22/2021 0:00, Retraction, Computer-Aided Content or Computer-Generated Content;Concerns/Issues About Data;Concerns/Issues about Referencing/Attributions;Concerns/Issues about Results and/or Conclusions;Concerns/Issues with Peer Review;Investigation by Journal/Publisher;Investigation by Third Party;Paper Mill;Unreliable Results and/or Conclusions;, No\n"
     ]
    }
   ],
   "source": [
    "def get_opinionated_csv():\n",
    "\treturn get_csv('data/source.csv', 'Record ID', ['Record ID', 'Title', 'Subject', 'Journal', 'Publisher', 'Country', 'ArticleType', 'RetractionDate', 'OriginalPaperDate', 'RetractionNature', 'Reason', 'Paywalled' ])\n",
    "\n",
    "print_dataframe(get_opinionated_csv(), 10)\n"
   ]
  },
  {
   "cell_type": "code",
   "execution_count": 5,
   "id": "f57f812a",
   "metadata": {},
   "outputs": [
    {
     "name": "stdout",
     "output_type": "stream",
     "text": [
      "Record ID, RetractionDate, OriginalPaperDate, dates_in_between\n",
      "66854, 2024-03-20 00:00:00, 2020-09-27 00:00:00, 1270\n",
      "66852, 2024-03-20 00:00:00, 2022-03-22 00:00:00, 729\n",
      "66851, 2024-03-20 00:00:00, 2021-04-14 00:00:00, 1071\n",
      "66850, 2024-03-20 00:00:00, 2021-05-27 00:00:00, 1028\n",
      "66849, 2024-03-20 00:00:00, 2021-04-22 00:00:00, 1063\n",
      "66848, 2024-03-20 00:00:00, 2022-04-19 00:00:00, 701\n",
      "66847, 2024-03-20 00:00:00, 2021-11-03 00:00:00, 868\n",
      "66846, 2024-03-20 00:00:00, 2022-10-04 00:00:00, 533\n",
      "66845, 2024-03-20 00:00:00, 2022-06-28 00:00:00, 631\n",
      "66844, 2024-03-20 00:00:00, 2019-11-28 00:00:00, 1574\n",
      "66843, 2024-03-20 00:00:00, 2021-11-22 00:00:00, 849\n"
     ]
    }
   ],
   "source": [
    "def context_aware_add_counted_dates(df:pd.DataFrame, new_col_name:str):\n",
    "\tdate_format = \"%m/%d/%Y %H:%M\" #maand/dag/jaar uur:minuut\n",
    "\treturn add_counted_dates(df, \"OriginalPaperDate\", \"RetractionDate\", new_col_name, format=date_format)\n",
    "\n",
    "df = get_csv('data/source.csv', 'Record ID', ['Record ID', 'RetractionDate', 'OriginalPaperDate'])\n",
    "df = context_aware_add_counted_dates(df, \"dates_in_between\")\n",
    "print_dataframe(df, 10)"
   ]
  }
 ],
 "metadata": {
  "kernelspec": {
   "display_name": "Python 3 (ipykernel)",
   "language": "python",
   "name": "python3"
  },
  "language_info": {
   "codemirror_mode": {
    "name": "ipython",
    "version": 3
   },
   "file_extension": ".py",
   "mimetype": "text/x-python",
   "name": "python",
   "nbconvert_exporter": "python",
   "pygments_lexer": "ipython3",
   "version": "3.12.5"
  }
 },
 "nbformat": 4,
 "nbformat_minor": 5
}
