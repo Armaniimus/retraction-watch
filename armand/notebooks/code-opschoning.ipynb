{
 "cells": [
  {
   "cell_type": "markdown",
   "id": "658fe99c",
   "metadata": {},
   "source": [
    "# code opschoning\n",
    "Het doel hier is laten zien hoe verschillende functies verandert zijn om de code kwaliteit te vergroten\n"
   ]
  },
  {
   "cell_type": "code",
   "execution_count": null,
   "id": "894dc29c",
   "metadata": {},
   "outputs": [],
   "source": [
    "#setup\n",
    "import pandas as pd\n",
    "from genlib import get_csv, print_dataframe"
   ]
  },
  {
   "cell_type": "markdown",
   "id": "12c7df58",
   "metadata": {
    "vscode": {
     "languageId": "plaintext"
    }
   },
   "source": [
    "In genlib is de functie getchunked() verwijdert omdat deze performance verhogende functie niet nodig is voor onze huidige codebase en eerdere ervaren memory problemen een tijdelijk probleem was op mijn pc.\n",
    "De functie add add_counted_dates is daarom aangepast tijdens deze aanpassing is hij ook generiek gemaakt en daarom verplaatst naar genlib\n",
    "Als laatste heb ik hieraan type hints toegevoegd als documenterende waarde."
   ]
  },
  {
   "cell_type": "code",
   "execution_count": 11,
   "id": "f36beb0c",
   "metadata": {},
   "outputs": [],
   "source": [
    "def add_counted_dates(df:pd.DataFrame, start_date:str, end_date:str, new_col_name:str, format:str=None):\n",
    "\t#for format documentation see https://docs.python.org/3/library/datetime.html#strftime-and-strptime-behavior\n",
    "\tdf[start_date] = pd.to_datetime(df[start_date], format=format)\n",
    "\tdf[end_date] = pd.to_datetime(df[end_date], format=format)\n",
    "\tdf[new_col_name] = (df[end_date] - df[start_date]).dt.days\n",
    "\n",
    "\treturn df"
   ]
  },
  {
   "cell_type": "markdown",
   "id": "00709fb4",
   "metadata": {},
   "source": [
    "tot slot is de functie save_days inbetween als volgt aangepast"
   ]
  },
  {
   "cell_type": "code",
   "execution_count": 12,
   "id": "361498a0",
   "metadata": {},
   "outputs": [
    {
     "name": "stdout",
     "output_type": "stream",
     "text": [
      "          RetractionDate OriginalPaperDate  days_between\n",
      "Record ID                                               \n",
      "66854         2024-03-20        2020-09-27          1270\n",
      "66852         2024-03-20        2022-03-22           729\n",
      "66851         2024-03-20        2021-04-14          1071\n",
      "66850         2024-03-20        2021-05-27          1028\n",
      "66849         2024-03-20        2021-04-22          1063\n",
      "...                  ...               ...           ...\n",
      "5             2015-12-22        2007-10-03          3002\n",
      "4             2014-11-01        2013-05-31           519\n",
      "3             2014-11-01        2011-01-28          1373\n",
      "2             2015-01-29        2008-07-17          2387\n",
      "1             2012-03-15        2011-05-19           301\n",
      "\n",
      "[66373 rows x 3 columns]\n"
     ]
    }
   ],
   "source": [
    "def save_days_inbetween():\n",
    "\tdf = get_csv('data/source.csv', 'Record ID', ['Record ID', 'RetractionDate', 'OriginalPaperDate'])\n",
    "\tdata = add_counted_dates(df, \"OriginalPaperDate\", \"RetractionDate\", \"days_between\", \"%m/%d/%Y %H:%M\") #maand/dag/jaar uur:minuut\n",
    "\tprint(data)\n",
    "\n",
    "save_days_inbetween()"
   ]
  },
  {
   "cell_type": "markdown",
   "id": "43f2fc74",
   "metadata": {},
   "source": [
    "Verder heb ik 2 context gebaseerde functies toegevoegd en deze voorzien van typehints"
   ]
  },
  {
   "cell_type": "code",
   "execution_count": null,
   "id": "b4bef76c",
   "metadata": {},
   "outputs": [
    {
     "ename": "SyntaxError",
     "evalue": "incomplete input (738072262.py, line 4)",
     "output_type": "error",
     "traceback": [
      "  \u001b[36mCell\u001b[39m\u001b[36m \u001b[39m\u001b[32mIn[13]\u001b[39m\u001b[32m, line 4\u001b[39m\n\u001b[31m    \u001b[39m\u001b[31mdef add_counted_dates():\u001b[39m\n                            ^\n\u001b[31mSyntaxError\u001b[39m\u001b[31m:\u001b[39m incomplete input\n"
     ]
    }
   ],
   "source": [
    "def get_opinionated_csv():\n",
    "\treturn get_csv('data/source.csv', 'Record ID', ['Record ID', 'Title', 'Subject', 'Journal', 'Publisher', 'Country', 'ArticleType', 'RetractionDate', 'OriginalPaperDate', 'RetractionNature', 'Reason', 'Paywalled' ])\n",
    "\n",
    "def context_aware_add_counted_dates(df:pd.DataFrame, new_col_name:str):\n",
    "\tdate_format = \"%m/%d/%Y %H:%M\" #maand/dag/jaar uur:minuut\n",
    "\treturn add_counted_dates(df, \"OriginalPaperDate\", \"RetractionDate\", new_col_name, format=date_format)"
   ]
  },
  {
   "cell_type": "code",
   "execution_count": null,
   "id": "9253b648",
   "metadata": {},
   "outputs": [],
   "source": []
  }
 ],
 "metadata": {
  "kernelspec": {
   "display_name": "Python 3 (ipykernel)",
   "language": "python",
   "name": "python3"
  },
  "language_info": {
   "codemirror_mode": {
    "name": "ipython",
    "version": 3
   },
   "file_extension": ".py",
   "mimetype": "text/x-python",
   "name": "python",
   "nbconvert_exporter": "python",
   "pygments_lexer": "ipython3",
   "version": "3.12.5"
  }
 },
 "nbformat": 4,
 "nbformat_minor": 5
}
