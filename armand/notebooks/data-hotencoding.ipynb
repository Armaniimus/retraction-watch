{
 "cells": [
  {
   "cell_type": "markdown",
   "id": "29948101",
   "metadata": {},
   "source": [
    "# Hotencoding\n",
    "Dit document is bedoeld om de data die wij ontvangen hebben hot te encoden.\n",
    "Dit document gebruikt daarvoor libaries die al eerder gebouwd zijn\n",
    "\n"
   ]
  },
  {
   "cell_type": "code",
   "execution_count": 29,
   "id": "e83738e1",
   "metadata": {},
   "outputs": [],
   "source": [
    "#setup\n",
    "import pandas as pd\n",
    "from lib import get_opinionated_csv, cut2022, context_aware_add_counted_dates\n",
    "from genlib import print_dataframe\n",
    "from sklearn import preprocessing"
   ]
  },
  {
   "cell_type": "markdown",
   "id": "9a3b3615",
   "metadata": {},
   "source": [
    "Ik heb de volgende functie gemaakt om de data te kunnen converteren in een onehotencoded manier"
   ]
  },
  {
   "cell_type": "code",
   "execution_count": 30,
   "id": "116208a0",
   "metadata": {},
   "outputs": [],
   "source": [
    "def multiHotEncoding(df:pd.DataFrame, col_name:str, split_char:str):\n",
    "\t#initiate the mlb instance\n",
    "    mlb = preprocessing.MultiLabelBinarizer()\n",
    "    \n",
    "    #get the dataset from transformed column\n",
    "    new_df = pd.DataFrame(mlb.fit_transform(df[col_name].str.strip(split_char).str.split(split_char)),\n",
    "\t\tcolumns=mlb.classes_,\n",
    "\t\tindex=df.index\n",
    "\t)\n",
    "    return pd.concat([df.drop(columns=[col_name]), new_df], axis=1)"
   ]
  },
  {
   "cell_type": "markdown",
   "id": "8e5851e2",
   "metadata": {},
   "source": [
    "Daarna heb ik omdit met meerder kollomen te doen de volgende iteratieve functie eromheen gebouwd"
   ]
  },
  {
   "cell_type": "code",
   "execution_count": 31,
   "id": "2148bd8b",
   "metadata": {},
   "outputs": [],
   "source": [
    "def iterativeMultiHotEncoding(df:pd.DataFrame, col_names:list, split_char:str):\n",
    "\tfor name in col_names:\n",
    "\t\tdf = multiHotEncoding(df, name, split_char)\n",
    "\treturn df"
   ]
  },
  {
   "cell_type": "markdown",
   "id": "4eba737f",
   "metadata": {},
   "source": [
    "Als laatste heb ik deze functie gemakt om de collomen te deleten als ze allemaal op de nul waarde staan."
   ]
  },
  {
   "cell_type": "code",
   "execution_count": 32,
   "id": "f2926df7",
   "metadata": {},
   "outputs": [],
   "source": [
    "def delete_empty_columns(df:pd.DataFrame):\n",
    "\treturn df.loc[:, (df != 0).any(axis=0)]"
   ]
  },
  {
   "cell_type": "markdown",
   "id": "afca5e83",
   "metadata": {},
   "source": [
    "In onderstaande code heb ik hem uiteindelijk gebruikt"
   ]
  },
  {
   "cell_type": "code",
   "execution_count": 33,
   "id": "d8f44c25",
   "metadata": {},
   "outputs": [
    {
     "name": "stderr",
     "output_type": "stream",
     "text": [
      "C:\\Users\\Tommy\\Documents\\GitHub\\retraction-watch\\armand\\genlib.py:24: SettingWithCopyWarning: \n",
      "A value is trying to be set on a copy of a slice from a DataFrame.\n",
      "Try using .loc[row_indexer,col_indexer] = value instead\n",
      "\n",
      "See the caveats in the documentation: https://pandas.pydata.org/pandas-docs/stable/user_guide/indexing.html#returning-a-view-versus-a-copy\n",
      "  df[start_date] = pd.to_datetime(df[start_date], format=format)\n",
      "C:\\Users\\Tommy\\Documents\\GitHub\\retraction-watch\\armand\\genlib.py:25: SettingWithCopyWarning: \n",
      "A value is trying to be set on a copy of a slice from a DataFrame.\n",
      "Try using .loc[row_indexer,col_indexer] = value instead\n",
      "\n",
      "See the caveats in the documentation: https://pandas.pydata.org/pandas-docs/stable/user_guide/indexing.html#returning-a-view-versus-a-copy\n",
      "  df[end_date] = pd.to_datetime(df[end_date], format=format)\n",
      "C:\\Users\\Tommy\\Documents\\GitHub\\retraction-watch\\armand\\genlib.py:26: SettingWithCopyWarning: \n",
      "A value is trying to be set on a copy of a slice from a DataFrame.\n",
      "Try using .loc[row_indexer,col_indexer] = value instead\n",
      "\n",
      "See the caveats in the documentation: https://pandas.pydata.org/pandas-docs/stable/user_guide/indexing.html#returning-a-view-versus-a-copy\n",
      "  df[new_col_name] = (df[end_date] - df[start_date]).dt.days\n"
     ]
    },
    {
     "name": "stdout",
     "output_type": "stream",
     "text": [
      "Record ID, Title, Journal, Publisher, RetractionDate, OriginalPaperDate, RetractionNature, Paywalled, days_in_between, (B/T) Business - Accounting, (B/T) Business - Economics, (B/T) Business - General, (B/T) Business - Management, (B/T) Business - Manufacturing, (B/T) Business - Marketing, (B/T) Business - Public Relations, (B/T) Computer Science, (B/T) Data Science, (B/T) Foreign Aid, (B/T) Government, (B/T) International Relations, (B/T) Technology, (B/T) Transportation, (B/T) Urban Planning, (BLS) Agriculture, (BLS) Anatomy/Physiology, (BLS) Anthropology, (BLS) Archeology, (BLS) Biochemistry, (BLS) Biology - Cancer, (BLS) Biology - Cellular, (BLS) Biology - General, (BLS) Biology - Molecular, (BLS) Genetics, (BLS) Microbiology, (BLS) Neuroscience, (BLS) Nutrition, (BLS) Paleontology, (BLS) Parasitology, (BLS) Plant Biology/Botany, (BLS) Toxicology, (BLS) Zoology, (ENV) Climate Change, (ENV) Climatology, (ENV) Ecology, (ENV) Environmental Sciences, (ENV) Food Science, (ENV) Ground/Surface Water, (HSC) Biostatistics/Epidemiology, (HSC) Medicine - Alternative, (HSC) Medicine - Anesthesia/Anaesthesia, (HSC) Medicine - Cardiology, (HSC) Medicine - Cardiovascular, (HSC) Medicine - Dentistry, (HSC) Medicine - Dermatology, (HSC) Medicine - Diabetes, (HSC) Medicine - Drug Design, (HSC) Medicine - Endocrinology, (HSC) Medicine - Gastroenterology, (HSC) Medicine - General, (HSC) Medicine - Geriatric, (HSC) Medicine - Immunology, (HSC) Medicine - Infectious Disease, (HSC) Medicine - Internal, (HSC) Medicine - Neurology, (HSC) Medicine - Nursing, (HSC) Medicine - Obstetrics/Gynecology, (HSC) Medicine - Oncology, (HSC) Medicine - Ophthalmology, (HSC) Medicine - Orthopedics, (HSC) Medicine - Otorhinolaryngology, (HSC) Medicine - Pathology, (HSC) Medicine - Pediatrics, (HSC) Medicine - Pharmacology, (HSC) Medicine - Psychiatry, (HSC) Medicine - Pulmonology, (HSC) Medicine - Rehabilitation/Therapy, (HSC) Medicine - Sports, (HSC) Medicine - Surgery, (HSC) Medicine - Transplantation, (HSC) Medicine - Urology/Nephrology, (HSC) Nutrition, (HSC) Occupational Health and Safety, (HSC) Public Health and Safety, (HSC) Radiology/Imaging, (HSC) Sports Science, (HSC) Veterinary Science, (HUM) Architecture, (HUM) Arts - Film Studies, (HUM) Arts - General, (HUM) Arts - Music, (HUM) Arts -Literature/Poetry, (HUM) Cartography, (HUM) History - Africa, (HUM) History - Asia, (HUM) History - Europe, (HUM) History - General, (HUM) Journalism, (HUM) Philosophy, (HUM) Religion, (PHY) Astronomy, (PHY) Astrophysics, (PHY) Chemistry, (PHY) Cosmology, (PHY) Crystallography/Spectroscopy, (PHY) Energy, (PHY) Engineering - Chemical, (PHY) Engineering - Electrical, (PHY) Engineering - General, (PHY) Engineering - Mechanical, (PHY) Engineering - Structural, (PHY) Geology, (PHY) Hydrology, (PHY) Materials Science, (PHY) Mathematics, (PHY) Nanotechnology, (PHY) Physics, (PHY) Statistics, (SOC) Communications, (SOC) Criminology, (SOC) Education, (SOC) Ethics/Bioethics, (SOC) Forensics, (SOC) Law/Legal Issues, (SOC) Linguistics, (SOC) Military/Naval Studies, (SOC) Philosophy, (SOC) Political Science, (SOC) Psychology, (SOC) Sexual And Marital Studies, (SOC) Sociology, (SOC) Sports and Recreation, Author Unresponsive, Bias Issues or Lack of Balance, Breach of Policy by Author, Cites Retracted Work, Complaints about Third Party, Computer-Aided Content or Computer-Generated Content, Concerns/Issues About Authorship/Affiliation, Concerns/Issues About Data, Concerns/Issues About Image, Concerns/Issues about Animal Welfare, Concerns/Issues about Article, Concerns/Issues about Human Subject Welfare, Concerns/Issues about Referencing/Attributions, Concerns/Issues about Results and/or Conclusions, Concerns/Issues about Third Party Involvement, Concerns/Issues with Peer Review, Conflict of Interest, Contamination of Cell Lines/Tissues, Contamination of Materials (General), Copyright Claims, Date of Article and/or Notice Unknown, Doing the Right Thing, Duplication of Content through Error by Journal/Publisher, Duplication of Data, Duplication of Text, Duplication of/in Article, Duplication of/in Image, Error by Journal/Publisher, Error by Third Party, Error in Analyses, Error in Cell Lines/Tissues, Error in Data, Error in Image, Error in Materials, Error in Methods, Error in Results and/or Conclusions, Error in Text, Ethical Violations by Author, Euphemisms for Duplication, Euphemisms for Plagiarism, Fake Peer Review, False/Forged Affiliation, False/Forged Authorship, Falsification/Fabrication of Data, Falsification/Fabrication of Image, Informed/Patient Consent - None/Withdrawn, Investigation by Company/Institution, Investigation by Journal/Publisher, Investigation by ORI, Investigation by Third Party, Lack of Approval from Author, Lack of Approval from Company/Institution, Lack of Approval from Third Party, Lack of IRB/IACUC Approval and/or Compliance, Legal Reasons and/or Threats, Manipulation of Data, Manipulation of Images, Miscommunication with/by Author, Miscommunication with/by Company/Institution, Misconduct - Official Investigation(s) and/or Finding(s), Misconduct by Author, Nonpayment of Fees and/or Refusal to Pay, Not Presented at Conference, Notice - Lack of, Notice - Limited or No Information, Notice - Unable to Access via current resources, Objections by Author(s), Objections by Third Party, Original Data and/or Images not Provided and/or not Available, Paper Mill, Plagiarism of Article, Plagiarism of Data, Plagiarism of Image, Plagiarism of Text, Publishing Ban, Removed, Results Not Reproducible, Retract and Replace, Rogue Editor, Taken from Dissertation/Thesis, Temporary Removal, Transfer of Copyright and/or Ownership, Unreliable Data, Unreliable Image, Unreliable Results and/or Conclusions, Updated to Correction, Updated to Retraction, Upgrade/Update of Prior Notice(s), Withdrawn to Publish in Different Journal, Afghanistan, Algeria, Angola, Anguilla, Argentina, Aruba, Australia, Austria, Azerbaijan, Bahrain, Bangladesh, Belarus, Belgium, Belize, Benin, Bosnia & Herzegovina, Botswana, Brazil, Brunei (Brunei Darussalam), Bulgaria, Burkina Faso, Burundi, Cameroon, Canada, Chad, Chile, China, Colombia, Croatia, Cuba, Cyprus, Czech Republic, Democratic Republic of the Congo, Denmark, Ecuador, Egypt, Eritrea, Estonia, Ethiopia, Faroe Islands, Finland, France, Gabon, Gambia, Georgia, Germany, Ghana, Greece, Grenada, Guatemala, Haiti, Hong Kong, Hungary, Iceland, India, Indonesia, Iran, Iraq, Ireland, Israel, Italy, Japan, Jordan, Kazakhstan, Kenya, Kuwait, Kyrgyzstan, Laos, Lebanon, Libya, Lithuania, Luxembourg, Macau, Madagascar, Malawi, Malaysia, Maldives, Mali, Malta, Mexico, Mongolia, Montenegro, Morocco, Mozambique, Myanmar (formerly Burma), Namibia, Nepal, Netherlands, New Zealand, Niger, Nigeria, North Macedonia (formerly Macedonia), Norway, Oman, Pakistan, Palestine, Peru, Philippines, Poland, Portugal, Qatar, Romania, Russia, Rwanda, Samoa, Saudi Arabia, Senegal, Serbia, Singapore, Slovakia, Slovenia, Somalia, South Africa, South Korea, Spain, Sri Lanka, Sudan, Sweden, Switzerland, Syria, Taiwan, Tanzania, Thailand, Togo, Trinidad & Tobago, Tunisia, Turkey, Uganda, Ukraine, United Arab Emirates, United Kingdom, United States, Unknown, Uzbekistan, Venezuela, Vietnam, Yemen, Zambia, Zimbabwe, Article in Press, Book Chapter/Reference Work, Case Report, Clinical Study, Commentary/Editorial, Conference Abstract/Paper, Correction/Erratum/Corrigendum, Expression of Concern, Guideline, Letter, Meta-Analysis, Other, Preprint, Research Article, Retracted Article, Retraction Notice, Review Article, Trade Magazines\n",
      "66852, Fuzzy Logic-Based Systems for the Diagnosis of Chronic Kidney Disease, BioMed Research International, Wiley, 2024-03-20 00:00:00, 2022-03-22 00:00:00, Retraction, No, 729, 0, 0, 0, 0, 0, 0, 0, 0, 0, 0, 0, 0, 1, 0, 0, 0, 0, 0, 0, 0, 0, 0, 0, 0, 0, 0, 0, 0, 0, 0, 0, 0, 0, 0, 0, 0, 0, 0, 0, 0, 0, 0, 0, 0, 0, 0, 0, 0, 0, 0, 0, 0, 0, 0, 0, 0, 0, 0, 0, 0, 0, 0, 0, 0, 0, 0, 0, 0, 0, 0, 0, 1, 0, 0, 0, 0, 0, 0, 0, 0, 0, 0, 0, 0, 0, 0, 0, 0, 0, 0, 0, 0, 0, 0, 0, 0, 0, 0, 0, 0, 0, 0, 0, 0, 0, 0, 0, 0, 0, 0, 0, 0, 0, 0, 0, 0, 0, 0, 0, 0, 0, 0, 0, 0, 0, 0, 0, 0, 1, 0, 1, 0, 0, 0, 0, 1, 1, 0, 1, 0, 0, 0, 0, 0, 0, 0, 0, 0, 0, 0, 0, 0, 0, 0, 0, 0, 0, 0, 0, 0, 0, 0, 0, 0, 0, 0, 0, 0, 0, 0, 1, 0, 1, 0, 0, 0, 0, 0, 0, 0, 0, 0, 0, 0, 0, 0, 0, 0, 0, 0, 0, 0, 1, 0, 0, 0, 0, 0, 0, 0, 0, 0, 0, 0, 0, 0, 0, 1, 0, 0, 0, 0, 0, 0, 0, 0, 0, 0, 0, 0, 0, 0, 0, 0, 0, 0, 0, 0, 0, 0, 0, 0, 0, 0, 0, 0, 0, 0, 0, 0, 0, 0, 0, 0, 0, 0, 0, 0, 0, 0, 0, 0, 0, 0, 0, 0, 0, 0, 1, 0, 0, 0, 0, 0, 0, 0, 1, 0, 0, 0, 0, 0, 0, 0, 0, 0, 0, 0, 0, 0, 0, 0, 0, 0, 0, 0, 0, 0, 0, 0, 0, 0, 0, 0, 0, 0, 0, 0, 0, 0, 0, 0, 0, 0, 0, 0, 0, 0, 0, 0, 0, 0, 0, 0, 0, 0, 0, 0, 0, 0, 0, 0, 0, 0, 0, 0, 0, 0, 0, 0, 0, 0, 0, 0, 0, 0, 0, 0, 0, 0, 0, 0, 0, 0, 0, 0, 0, 0, 0, 0, 0, 0, 0, 0, 0, 0, 0, 0, 0, 0, 0, 0, 0, 0, 1, 0, 0, 0, 0\n",
      "66848, Mechanism of RNA circHIPK3 Involved in Resistance of Lung Cancer Cells to Gefitinib, BioMed Research International, Wiley, 2024-03-20 00:00:00, 2022-04-19 00:00:00, Retraction, No, 701, 0, 0, 0, 0, 0, 0, 0, 0, 0, 0, 0, 0, 0, 0, 0, 0, 0, 0, 0, 0, 0, 1, 0, 0, 1, 0, 0, 0, 0, 0, 0, 0, 0, 0, 0, 0, 0, 0, 0, 0, 0, 0, 0, 0, 0, 0, 0, 0, 0, 0, 0, 0, 0, 0, 0, 0, 0, 0, 1, 0, 0, 0, 0, 0, 1, 0, 1, 0, 0, 0, 0, 0, 0, 0, 0, 0, 0, 0, 0, 0, 0, 0, 0, 0, 0, 0, 0, 0, 0, 0, 0, 0, 0, 0, 0, 0, 0, 0, 0, 0, 0, 0, 0, 0, 0, 0, 0, 0, 0, 0, 0, 0, 0, 0, 0, 0, 0, 0, 0, 0, 0, 0, 0, 0, 0, 0, 0, 0, 1, 0, 1, 0, 0, 0, 0, 1, 1, 0, 1, 0, 0, 0, 0, 0, 0, 0, 0, 0, 0, 0, 0, 0, 0, 0, 0, 0, 0, 0, 0, 0, 0, 0, 0, 0, 0, 0, 0, 0, 0, 0, 1, 0, 1, 0, 0, 0, 0, 0, 0, 0, 0, 0, 0, 0, 0, 0, 0, 0, 0, 0, 0, 0, 1, 0, 0, 0, 0, 0, 0, 0, 0, 0, 0, 0, 0, 0, 0, 1, 0, 0, 0, 0, 0, 0, 0, 0, 0, 0, 0, 0, 0, 0, 0, 0, 0, 0, 0, 0, 0, 0, 0, 0, 0, 0, 0, 0, 0, 0, 1, 0, 0, 0, 0, 0, 0, 0, 0, 0, 0, 0, 0, 0, 0, 0, 0, 0, 0, 0, 0, 0, 0, 0, 0, 0, 0, 0, 0, 0, 0, 0, 0, 0, 0, 0, 0, 0, 0, 0, 0, 0, 0, 0, 0, 0, 0, 0, 0, 0, 0, 0, 0, 0, 0, 0, 0, 0, 0, 0, 0, 0, 0, 0, 0, 0, 0, 0, 0, 0, 0, 0, 0, 0, 0, 0, 0, 0, 0, 0, 0, 0, 0, 0, 0, 0, 0, 0, 0, 0, 0, 0, 0, 0, 0, 0, 0, 0, 0, 0, 0, 0, 0, 0, 0, 0, 0, 0, 0, 0, 0, 0, 0, 0, 0, 0, 0, 0, 0, 0, 0, 0, 0, 0, 0, 0, 1, 0, 0, 0, 0\n",
      "66846, Identifying the Effect of Nuanxin Capsules on Myocardial Injury Induced by Chronic Hypoxia via Network Pharmacology Analysis and Experimental Validation, BioMed Research International, Wiley, 2024-03-20 00:00:00, 2022-10-04 00:00:00, Retraction, No, 533, 0, 0, 0, 0, 0, 0, 0, 0, 0, 0, 0, 0, 0, 0, 0, 0, 0, 0, 0, 0, 0, 0, 0, 0, 0, 0, 0, 0, 0, 0, 0, 0, 0, 0, 0, 0, 0, 0, 0, 0, 1, 0, 0, 1, 0, 0, 0, 0, 0, 0, 0, 0, 0, 0, 0, 0, 0, 0, 0, 0, 0, 0, 0, 0, 1, 0, 0, 0, 0, 0, 0, 0, 0, 0, 0, 0, 0, 0, 0, 0, 0, 0, 0, 0, 0, 0, 0, 0, 0, 0, 0, 0, 0, 0, 0, 0, 0, 0, 0, 0, 0, 0, 0, 0, 0, 0, 0, 0, 0, 0, 0, 0, 0, 0, 0, 0, 0, 0, 0, 0, 0, 0, 0, 0, 0, 0, 0, 0, 1, 0, 1, 0, 0, 0, 0, 1, 1, 0, 1, 0, 0, 0, 0, 0, 0, 0, 0, 0, 0, 0, 0, 0, 0, 0, 0, 0, 0, 0, 0, 0, 0, 0, 0, 0, 0, 0, 0, 0, 0, 0, 1, 0, 1, 0, 0, 0, 0, 0, 0, 0, 0, 0, 0, 0, 0, 0, 0, 0, 0, 0, 0, 0, 1, 0, 0, 0, 0, 0, 0, 0, 0, 0, 0, 0, 0, 0, 0, 1, 0, 0, 0, 0, 0, 0, 0, 0, 0, 0, 0, 0, 0, 0, 0, 0, 0, 0, 0, 0, 0, 0, 0, 0, 0, 0, 0, 0, 0, 0, 1, 0, 0, 0, 0, 0, 0, 0, 0, 0, 0, 0, 0, 0, 0, 0, 0, 0, 0, 0, 0, 0, 0, 0, 0, 0, 0, 0, 0, 0, 0, 0, 0, 0, 0, 0, 0, 0, 0, 0, 0, 0, 0, 0, 0, 0, 0, 0, 0, 0, 0, 0, 0, 0, 0, 0, 0, 0, 0, 0, 0, 0, 0, 0, 0, 0, 0, 0, 0, 0, 0, 0, 0, 0, 0, 0, 0, 0, 0, 0, 0, 0, 0, 0, 0, 0, 0, 0, 0, 0, 0, 0, 0, 0, 0, 0, 0, 0, 0, 0, 0, 0, 0, 0, 0, 0, 0, 0, 0, 0, 0, 0, 0, 0, 0, 0, 0, 0, 0, 0, 0, 0, 0, 0, 0, 0, 1, 0, 0, 0, 0\n",
      "66845, Mechanism of Sevoflurane Anesthesia under Hypothermic Cardiopulmonary Bypass on Postoperative Atrial Fibrillation Rhythm in Patients Undergoing Mitral Valve Replacement, BioMed Research International, Wiley, 2024-03-20 00:00:00, 2022-06-28 00:00:00, Retraction, No, 631, 0, 0, 0, 0, 0, 0, 0, 0, 0, 0, 0, 0, 0, 0, 0, 0, 0, 0, 0, 0, 0, 0, 0, 0, 0, 0, 0, 0, 0, 0, 0, 0, 0, 0, 0, 0, 0, 0, 0, 0, 0, 1, 0, 1, 0, 0, 0, 0, 0, 0, 0, 0, 0, 0, 0, 0, 0, 0, 0, 0, 0, 0, 0, 0, 0, 0, 0, 0, 0, 1, 0, 0, 0, 0, 0, 0, 0, 0, 0, 0, 0, 0, 0, 0, 0, 0, 0, 0, 0, 0, 0, 0, 0, 0, 0, 0, 0, 0, 0, 0, 0, 0, 0, 0, 0, 0, 0, 0, 0, 0, 0, 0, 0, 0, 0, 0, 0, 0, 0, 0, 0, 0, 0, 0, 0, 0, 0, 0, 1, 0, 1, 0, 0, 0, 0, 1, 1, 0, 0, 0, 0, 0, 0, 0, 0, 0, 0, 0, 0, 0, 0, 0, 0, 0, 0, 0, 0, 0, 0, 0, 0, 0, 0, 0, 0, 0, 0, 0, 0, 0, 1, 0, 1, 0, 0, 0, 0, 0, 0, 0, 0, 0, 0, 0, 0, 0, 0, 0, 0, 0, 0, 0, 1, 0, 0, 0, 0, 0, 0, 0, 0, 0, 0, 0, 0, 0, 0, 1, 0, 0, 0, 0, 0, 0, 0, 0, 0, 0, 0, 0, 0, 0, 0, 0, 0, 0, 0, 0, 0, 0, 0, 0, 0, 0, 0, 0, 0, 0, 1, 0, 0, 0, 0, 0, 0, 0, 0, 0, 0, 0, 0, 0, 0, 0, 0, 0, 0, 0, 0, 0, 0, 0, 0, 0, 0, 0, 0, 0, 0, 0, 0, 0, 0, 0, 0, 0, 0, 0, 0, 0, 0, 0, 0, 0, 0, 0, 0, 0, 0, 0, 0, 0, 0, 0, 0, 0, 0, 0, 0, 0, 0, 0, 0, 0, 0, 0, 0, 0, 0, 0, 0, 0, 0, 0, 0, 0, 0, 0, 0, 0, 0, 0, 0, 0, 0, 0, 0, 0, 0, 0, 0, 0, 0, 0, 0, 0, 0, 0, 0, 0, 0, 0, 0, 0, 0, 0, 0, 0, 0, 0, 0, 0, 0, 0, 0, 0, 0, 0, 0, 0, 0, 0, 0, 0, 1, 0, 0, 0, 0\n",
      "66842, Forecast Analysis of the Overall Structure Characteristics and Development Potential of the Sports Industry Based on Wireless Communication Networks, Wireless Communications and Mobile Computing, Hindawi, 2023-01-24 00:00:00, 2022-03-14 00:00:00, Retraction, No, 316, 0, 0, 0, 0, 0, 0, 0, 0, 0, 0, 0, 0, 1, 0, 0, 0, 0, 0, 0, 0, 0, 0, 0, 0, 0, 0, 0, 0, 0, 0, 0, 0, 0, 0, 0, 0, 0, 0, 0, 0, 0, 0, 0, 0, 0, 0, 0, 0, 0, 0, 0, 0, 0, 0, 0, 0, 0, 0, 0, 0, 0, 0, 0, 0, 0, 0, 0, 0, 0, 0, 0, 0, 0, 0, 0, 0, 0, 0, 0, 0, 0, 0, 0, 0, 0, 0, 0, 0, 0, 0, 0, 0, 0, 0, 0, 0, 0, 0, 0, 0, 0, 0, 0, 0, 0, 0, 0, 0, 0, 1, 0, 0, 0, 0, 0, 0, 0, 0, 0, 0, 0, 0, 1, 0, 0, 0, 0, 0, 0, 0, 0, 0, 0, 0, 0, 0, 0, 0, 1, 0, 0, 0, 0, 0, 0, 0, 0, 0, 0, 0, 0, 0, 0, 0, 0, 0, 0, 0, 0, 0, 0, 0, 0, 0, 0, 0, 0, 0, 0, 0, 1, 0, 1, 0, 0, 0, 0, 0, 0, 0, 0, 0, 0, 0, 0, 0, 0, 0, 0, 0, 0, 0, 1, 0, 0, 0, 0, 0, 0, 0, 0, 0, 0, 0, 0, 0, 0, 0, 0, 0, 0, 0, 0, 0, 0, 0, 0, 0, 0, 0, 0, 0, 0, 0, 0, 0, 0, 0, 0, 0, 0, 0, 0, 0, 0, 0, 0, 0, 1, 0, 0, 0, 0, 0, 0, 0, 0, 0, 0, 0, 0, 0, 0, 0, 0, 0, 0, 0, 0, 0, 0, 0, 0, 0, 0, 0, 0, 0, 0, 0, 0, 0, 0, 0, 0, 0, 0, 0, 0, 0, 0, 0, 0, 0, 0, 0, 0, 0, 0, 0, 0, 0, 0, 0, 0, 0, 0, 0, 0, 0, 0, 0, 0, 0, 0, 0, 0, 0, 0, 0, 0, 0, 0, 0, 0, 0, 0, 0, 0, 0, 0, 0, 0, 0, 0, 0, 0, 0, 0, 0, 0, 0, 0, 0, 0, 0, 0, 0, 0, 0, 0, 0, 0, 0, 0, 0, 0, 0, 0, 0, 0, 0, 0, 0, 0, 0, 0, 0, 0, 0, 0, 0, 0, 0, 1, 0, 0, 0, 0\n",
      "66841, Image Contrast Enhancement Method Based on Nonlinear Space and Space Constraints, Wireless Communications and Mobile Computing, Wiley, 2023-08-16 00:00:00, 2022-02-24 00:00:00, Retraction, No, 538, 0, 0, 0, 0, 0, 0, 0, 1, 0, 0, 0, 0, 1, 0, 0, 0, 0, 0, 0, 0, 0, 0, 0, 0, 0, 0, 0, 0, 0, 0, 0, 0, 0, 0, 0, 0, 0, 0, 0, 0, 0, 0, 0, 0, 0, 0, 0, 0, 0, 0, 0, 0, 0, 0, 0, 0, 0, 0, 0, 0, 0, 0, 0, 0, 0, 0, 0, 0, 0, 0, 0, 0, 0, 0, 0, 0, 0, 0, 0, 0, 0, 0, 0, 0, 0, 0, 0, 0, 0, 0, 0, 0, 0, 0, 0, 0, 0, 0, 0, 0, 0, 0, 0, 0, 0, 0, 0, 0, 0, 0, 0, 0, 0, 0, 0, 0, 0, 0, 0, 0, 0, 0, 0, 0, 0, 0, 0, 0, 1, 0, 1, 0, 0, 0, 0, 1, 1, 0, 1, 0, 0, 0, 0, 0, 0, 0, 0, 0, 0, 0, 0, 0, 0, 0, 0, 0, 0, 0, 0, 0, 0, 0, 0, 0, 0, 0, 0, 0, 0, 0, 1, 0, 1, 0, 0, 0, 0, 0, 0, 0, 0, 0, 0, 0, 0, 0, 0, 0, 0, 0, 0, 0, 1, 0, 0, 0, 0, 0, 0, 0, 0, 0, 0, 0, 0, 0, 0, 1, 0, 0, 0, 0, 0, 0, 0, 0, 0, 0, 0, 0, 0, 0, 0, 0, 0, 0, 0, 0, 0, 0, 0, 0, 0, 0, 0, 0, 0, 0, 1, 0, 0, 0, 0, 0, 0, 0, 0, 0, 0, 0, 0, 0, 0, 0, 0, 0, 0, 0, 0, 0, 0, 0, 0, 0, 0, 0, 0, 0, 0, 0, 0, 0, 0, 0, 0, 0, 0, 0, 0, 0, 0, 0, 0, 0, 0, 0, 0, 0, 0, 0, 0, 0, 0, 0, 0, 0, 0, 0, 0, 0, 0, 0, 0, 0, 0, 0, 0, 0, 0, 0, 0, 0, 0, 0, 0, 0, 0, 0, 0, 0, 0, 0, 0, 0, 0, 0, 0, 0, 0, 0, 0, 0, 0, 0, 0, 0, 0, 0, 0, 0, 0, 0, 0, 0, 0, 0, 0, 0, 0, 0, 0, 0, 0, 0, 0, 0, 0, 0, 0, 0, 0, 0, 0, 0, 1, 0, 0, 0, 0\n",
      "66834, Finite versus Indefinite Nucleos(t)ide Analogue Therapy of Patients with Chronic Hepatitis B Exhibiting Negative HBsAg Levels after Treatment, BioMed Research International, Wiley, 2024-03-20 00:00:00, 2022-07-15 00:00:00, Retraction, No, 614, 0, 0, 0, 0, 0, 0, 0, 0, 0, 0, 0, 0, 0, 0, 0, 0, 0, 0, 0, 0, 0, 0, 0, 0, 1, 0, 0, 0, 0, 0, 0, 0, 0, 0, 0, 0, 0, 0, 0, 0, 0, 0, 0, 0, 0, 0, 0, 0, 0, 0, 0, 0, 0, 1, 1, 0, 0, 0, 0, 0, 0, 0, 0, 0, 1, 0, 0, 0, 0, 0, 0, 0, 0, 0, 0, 0, 0, 0, 0, 0, 0, 0, 0, 0, 0, 0, 0, 0, 0, 0, 0, 0, 0, 0, 0, 0, 0, 0, 0, 0, 0, 0, 0, 0, 0, 0, 0, 0, 0, 0, 0, 0, 0, 0, 0, 0, 0, 0, 0, 0, 0, 0, 0, 0, 0, 0, 0, 0, 1, 0, 1, 0, 0, 0, 0, 1, 1, 0, 1, 0, 0, 0, 0, 0, 0, 0, 0, 0, 0, 0, 0, 0, 0, 0, 0, 0, 0, 0, 0, 0, 0, 0, 0, 0, 0, 0, 0, 0, 0, 0, 1, 0, 1, 0, 0, 0, 0, 0, 0, 0, 0, 0, 0, 0, 0, 0, 0, 0, 0, 0, 0, 0, 1, 0, 0, 0, 0, 0, 0, 0, 0, 0, 0, 0, 0, 0, 0, 1, 0, 0, 0, 0, 0, 0, 0, 0, 0, 0, 0, 0, 0, 0, 0, 0, 0, 0, 0, 0, 0, 0, 0, 0, 0, 0, 0, 0, 0, 0, 1, 0, 0, 0, 0, 0, 0, 0, 0, 0, 0, 0, 0, 0, 0, 0, 0, 0, 0, 0, 0, 0, 0, 0, 0, 0, 0, 0, 0, 0, 0, 0, 0, 0, 0, 0, 0, 0, 0, 0, 0, 0, 0, 0, 0, 0, 0, 0, 0, 0, 0, 0, 0, 0, 0, 0, 0, 0, 0, 0, 0, 0, 0, 0, 0, 0, 0, 0, 0, 0, 0, 0, 0, 0, 0, 0, 0, 0, 0, 0, 0, 0, 0, 0, 0, 0, 0, 0, 0, 0, 0, 0, 0, 0, 0, 0, 0, 0, 0, 0, 0, 0, 0, 0, 0, 0, 0, 0, 0, 0, 0, 0, 0, 0, 0, 0, 0, 0, 0, 0, 0, 0, 0, 0, 0, 0, 1, 0, 0, 0, 0\n",
      "66833, Feature Importance Score-Based Functional Link Artificial Neural Networks for Breast Cancer Classification, BioMed Research International, Wiley, 2024-03-20 00:00:00, 2022-04-02 00:00:00, Retraction, No, 718, 0, 0, 0, 0, 0, 0, 0, 0, 1, 0, 0, 0, 1, 0, 0, 0, 0, 0, 0, 0, 0, 0, 0, 0, 0, 0, 0, 0, 0, 0, 0, 0, 0, 0, 0, 0, 0, 0, 0, 0, 0, 0, 0, 0, 0, 0, 0, 0, 0, 0, 0, 0, 0, 0, 0, 0, 0, 0, 1, 0, 0, 0, 0, 0, 0, 0, 0, 0, 0, 0, 0, 0, 0, 0, 0, 0, 0, 0, 0, 0, 0, 0, 0, 0, 0, 0, 0, 0, 0, 0, 0, 0, 0, 0, 0, 0, 0, 0, 0, 0, 0, 0, 0, 0, 0, 0, 0, 0, 0, 0, 0, 0, 0, 0, 0, 0, 0, 0, 0, 0, 0, 0, 0, 0, 0, 0, 0, 0, 1, 0, 1, 0, 0, 0, 0, 1, 1, 0, 1, 0, 0, 0, 0, 0, 0, 0, 0, 0, 0, 0, 0, 0, 0, 0, 0, 0, 0, 0, 0, 0, 0, 0, 0, 0, 0, 0, 0, 0, 0, 0, 1, 0, 1, 0, 0, 0, 0, 0, 0, 0, 0, 0, 0, 0, 0, 0, 0, 0, 0, 0, 0, 0, 1, 0, 0, 0, 0, 0, 0, 0, 0, 0, 0, 0, 0, 0, 0, 1, 0, 0, 0, 0, 0, 0, 0, 0, 0, 0, 0, 0, 0, 0, 1, 0, 0, 0, 0, 0, 0, 0, 0, 0, 0, 0, 0, 0, 0, 0, 0, 0, 0, 0, 0, 0, 0, 0, 0, 0, 0, 0, 0, 0, 0, 0, 0, 0, 0, 0, 0, 0, 0, 0, 0, 0, 0, 0, 1, 0, 0, 0, 0, 0, 0, 0, 0, 0, 0, 0, 0, 0, 0, 0, 0, 0, 0, 0, 0, 0, 0, 0, 0, 0, 0, 0, 0, 0, 0, 0, 0, 0, 0, 0, 0, 0, 0, 0, 0, 0, 0, 0, 0, 0, 0, 0, 0, 0, 0, 0, 0, 0, 0, 0, 0, 0, 0, 0, 0, 0, 0, 0, 0, 0, 0, 0, 0, 0, 0, 0, 0, 0, 0, 0, 0, 0, 0, 0, 0, 0, 0, 0, 0, 0, 0, 0, 0, 0, 0, 0, 0, 0, 0, 0, 0, 0, 1, 0, 0, 0, 0\n",
      "66795, Exploration of ACE-Inhibiting Peptides Encrypted in Artemisia annua Using In Silico Approach, BioMed Research International, Wiley, 2024-03-20 00:00:00, 2022-05-23 00:00:00, Retraction, No, 667, 0, 0, 0, 0, 0, 0, 0, 0, 0, 0, 0, 0, 0, 0, 0, 0, 0, 0, 0, 1, 0, 0, 0, 0, 0, 0, 0, 0, 0, 0, 0, 0, 0, 0, 0, 0, 0, 0, 0, 0, 0, 0, 0, 1, 0, 0, 0, 0, 0, 0, 0, 0, 0, 0, 0, 0, 0, 0, 0, 0, 0, 0, 0, 0, 1, 0, 0, 0, 0, 0, 0, 0, 0, 0, 0, 0, 0, 0, 0, 0, 0, 0, 0, 0, 0, 0, 0, 0, 0, 0, 0, 0, 0, 0, 0, 0, 0, 0, 0, 0, 0, 0, 0, 0, 0, 0, 0, 0, 0, 0, 0, 0, 0, 0, 0, 0, 0, 0, 0, 0, 0, 0, 0, 0, 0, 0, 0, 0, 1, 0, 1, 0, 0, 0, 0, 1, 1, 0, 1, 0, 0, 0, 0, 0, 0, 0, 0, 0, 0, 0, 0, 0, 0, 0, 0, 0, 0, 0, 0, 0, 0, 0, 0, 0, 0, 0, 0, 0, 0, 0, 1, 0, 1, 0, 0, 0, 0, 0, 0, 0, 0, 0, 0, 0, 0, 0, 0, 0, 0, 0, 0, 0, 1, 0, 0, 0, 0, 0, 0, 0, 0, 0, 0, 0, 0, 0, 0, 1, 0, 0, 0, 0, 0, 0, 0, 0, 0, 0, 0, 0, 0, 0, 0, 0, 0, 0, 0, 0, 0, 0, 0, 0, 0, 0, 0, 0, 0, 0, 0, 0, 0, 0, 0, 0, 0, 0, 0, 0, 0, 0, 0, 0, 0, 0, 0, 0, 0, 0, 0, 0, 0, 0, 0, 0, 0, 0, 0, 0, 0, 0, 0, 0, 0, 0, 0, 0, 0, 0, 0, 0, 0, 0, 0, 0, 0, 0, 0, 0, 0, 0, 0, 0, 0, 0, 0, 0, 0, 0, 0, 0, 0, 0, 0, 0, 0, 0, 1, 0, 0, 0, 0, 0, 0, 0, 0, 0, 0, 1, 0, 0, 0, 0, 0, 0, 0, 0, 0, 0, 1, 0, 0, 0, 0, 0, 0, 0, 0, 0, 0, 0, 0, 0, 0, 0, 0, 0, 0, 0, 0, 0, 0, 0, 0, 0, 0, 0, 0, 0, 0, 0, 0, 0, 0, 0, 1, 0, 0, 0, 0\n",
      "66793, Exosomal miRNA Expression Profiling and the Roles of Exosomal miR-4741, miR-32, miR-3149, and miR-6727 on Gastric Cancer Progression, BioMed Research International, Wiley, 2024-03-20 00:00:00, 2022-07-04 00:00:00, Retraction, No, 625, 0, 0, 0, 0, 0, 0, 0, 0, 0, 0, 0, 0, 0, 0, 0, 0, 0, 0, 0, 0, 0, 0, 0, 0, 1, 0, 0, 0, 0, 0, 0, 0, 0, 0, 0, 0, 0, 0, 0, 0, 0, 0, 0, 0, 0, 0, 0, 0, 0, 1, 0, 0, 0, 0, 0, 0, 0, 0, 1, 0, 0, 0, 0, 0, 0, 0, 0, 0, 0, 0, 0, 0, 0, 0, 0, 0, 0, 0, 0, 0, 0, 0, 0, 0, 0, 0, 0, 0, 0, 0, 0, 0, 0, 0, 0, 0, 0, 0, 0, 0, 0, 0, 0, 0, 0, 0, 0, 0, 0, 0, 0, 0, 0, 0, 0, 0, 0, 0, 0, 0, 0, 0, 0, 0, 0, 0, 0, 0, 1, 0, 1, 0, 0, 0, 0, 1, 1, 0, 1, 0, 0, 0, 0, 0, 0, 0, 0, 0, 0, 0, 0, 0, 0, 0, 0, 0, 0, 0, 0, 0, 0, 0, 0, 0, 0, 0, 0, 0, 0, 0, 1, 0, 1, 0, 0, 0, 0, 0, 0, 0, 0, 0, 0, 0, 0, 0, 0, 0, 0, 0, 0, 0, 1, 0, 0, 0, 0, 0, 0, 0, 0, 0, 0, 0, 0, 0, 0, 1, 0, 0, 0, 0, 0, 0, 0, 0, 0, 0, 0, 0, 0, 0, 0, 0, 0, 0, 0, 0, 0, 0, 0, 0, 0, 0, 0, 0, 0, 0, 1, 0, 0, 0, 0, 0, 0, 0, 0, 0, 0, 0, 0, 0, 0, 0, 0, 0, 0, 0, 0, 0, 0, 0, 0, 0, 0, 0, 0, 0, 0, 0, 0, 0, 0, 0, 0, 0, 0, 0, 0, 0, 0, 0, 0, 0, 0, 0, 0, 0, 0, 0, 0, 0, 0, 0, 0, 0, 0, 0, 0, 0, 0, 0, 0, 0, 0, 0, 0, 0, 0, 0, 0, 0, 0, 0, 0, 0, 0, 0, 0, 0, 0, 0, 0, 0, 0, 0, 0, 0, 0, 0, 0, 0, 0, 0, 0, 0, 0, 0, 0, 0, 0, 0, 0, 0, 0, 0, 0, 0, 0, 0, 0, 0, 0, 0, 0, 0, 0, 0, 0, 0, 0, 0, 0, 0, 1, 0, 0, 0, 0\n",
      "66789, Establishment and Verification of a Gene Signature for Diagnosing Type 2 Diabetics by WGCNA, LASSO Analysis, and In Vitro Experiments, BioMed Research International, Wiley, 2024-03-20 00:00:00, 2022-05-23 00:00:00, Retraction, No, 667, 0, 0, 0, 0, 0, 0, 0, 0, 0, 0, 0, 0, 0, 0, 0, 0, 0, 0, 0, 0, 0, 0, 0, 0, 1, 0, 0, 0, 0, 0, 0, 0, 0, 0, 0, 0, 0, 0, 0, 0, 0, 0, 0, 0, 0, 0, 1, 0, 0, 0, 0, 0, 0, 0, 0, 0, 0, 0, 0, 0, 0, 0, 0, 0, 0, 0, 0, 0, 0, 0, 0, 0, 0, 0, 0, 0, 0, 0, 0, 0, 0, 0, 0, 0, 0, 0, 0, 0, 0, 0, 0, 0, 0, 0, 0, 0, 0, 0, 0, 0, 0, 0, 0, 0, 0, 0, 0, 0, 0, 0, 0, 0, 0, 0, 0, 0, 0, 0, 0, 0, 0, 0, 0, 0, 0, 0, 0, 0, 1, 0, 1, 0, 0, 0, 0, 1, 1, 0, 1, 0, 0, 0, 0, 0, 0, 0, 0, 0, 0, 0, 0, 0, 0, 0, 0, 0, 0, 0, 0, 0, 0, 0, 0, 0, 0, 0, 0, 0, 0, 0, 1, 0, 1, 0, 0, 0, 0, 0, 0, 0, 0, 0, 0, 0, 0, 0, 0, 0, 0, 0, 0, 0, 1, 0, 0, 0, 0, 0, 0, 0, 0, 0, 0, 0, 0, 0, 0, 1, 0, 0, 0, 0, 0, 0, 0, 0, 0, 0, 0, 0, 0, 0, 0, 0, 0, 0, 0, 0, 0, 0, 0, 0, 0, 0, 0, 0, 0, 0, 1, 0, 0, 0, 0, 0, 0, 0, 0, 0, 0, 0, 0, 0, 0, 0, 0, 0, 0, 0, 0, 0, 0, 0, 0, 0, 0, 0, 0, 0, 0, 0, 0, 0, 0, 0, 0, 0, 0, 0, 0, 0, 0, 0, 0, 0, 0, 0, 0, 0, 0, 0, 0, 0, 0, 0, 0, 0, 0, 0, 0, 0, 0, 0, 0, 0, 0, 0, 0, 0, 0, 0, 0, 0, 0, 0, 0, 0, 0, 0, 0, 0, 0, 0, 0, 0, 0, 0, 0, 0, 0, 0, 0, 0, 0, 0, 0, 0, 0, 0, 0, 0, 0, 0, 0, 0, 0, 0, 0, 0, 0, 0, 0, 0, 0, 0, 0, 0, 0, 0, 0, 0, 0, 0, 0, 0, 1, 0, 0, 0, 0\n"
     ]
    }
   ],
   "source": [
    "def encode_data():\n",
    "\tdf = get_opinionated_csv()\n",
    "\tin2022 = cut2022(df)\n",
    "\tdata = context_aware_add_counted_dates(in2022, \"days_in_between\")\n",
    "\tmulti_encoded_df = iterativeMultiHotEncoding(data, [\"Subject\", \"Reason\", \"Country\", \"ArticleType\"], \";\")\n",
    "\tfilteredDataframes = delete_empty_columns(multi_encoded_df)\n",
    "\t\n",
    "\tprint_dataframe(filteredDataframes, 10)\n",
    "\n",
    "encode_data()"
   ]
  }
 ],
 "metadata": {
  "kernelspec": {
   "display_name": "Python 3 (ipykernel)",
   "language": "python",
   "name": "python3"
  }
 },
 "nbformat": 4,
 "nbformat_minor": 5
}
